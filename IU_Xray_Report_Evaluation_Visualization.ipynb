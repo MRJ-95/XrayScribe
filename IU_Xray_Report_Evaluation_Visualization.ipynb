{
 "cells": [
  {
   "cell_type": "markdown",
   "id": "7808c0c2",
   "metadata": {},
   "source": [
    "# 📊 IU X-ray Report Evaluation Dashboard\n",
    "\n",
    "This notebook visualizes the quality of generated radiology reports using:\n",
    "\n",
    "- **BLEU** and **ROUGE** score distributions\n",
    "- Report refinement improvement (initial → refined)\n",
    "- Co-occurrence heatmap of predicted labels\n"
   ]
  },
  {
   "cell_type": "code",
   "execution_count": null,
   "id": "2f86a097",
   "metadata": {},
   "outputs": [],
   "source": [
    "import pandas as pd\n",
    "import matplotlib.pyplot as plt\n",
    "import seaborn as sns\n",
    "from sklearn.preprocessing import MultiLabelBinarizer\n",
    "\n",
    "# Load inference results\n",
    "df_results = pd.read_csv(\"/kaggle/working/final_inference_results.csv\")\n"
   ]
  },
  {
   "cell_type": "code",
   "execution_count": null,
   "id": "ca196687",
   "metadata": {},
   "outputs": [],
   "source": [
    "plt.figure(figsize=(12, 4))\n",
    "\n",
    "plt.subplot(1, 2, 1)\n",
    "plt.hist(df_results['bleu_init'], bins=30, alpha=0.5, label='Initial')\n",
    "plt.hist(df_results['bleu_ref'], bins=30, alpha=0.5, label='Refined')\n",
    "plt.title(\"BLEU Score Distribution\")\n",
    "plt.xlabel(\"BLEU Score\"); plt.ylabel(\"Count\"); plt.legend()\n",
    "\n",
    "plt.subplot(1, 2, 2)\n",
    "plt.hist(df_results['rouge1_init'], bins=30, alpha=0.5, label='Initial')\n",
    "plt.hist(df_results['rouge1_ref'], bins=30, alpha=0.5, label='Refined')\n",
    "plt.title(\"ROUGE-1 F1 Distribution\")\n",
    "plt.xlabel(\"ROUGE Score\"); plt.ylabel(\"Count\"); plt.legend()\n",
    "\n",
    "plt.tight_layout()\n",
    "plt.show()\n"
   ]
  },
  {
   "cell_type": "code",
   "execution_count": null,
   "id": "96d60222",
   "metadata": {},
   "outputs": [],
   "source": [
    "df_results['bleu_improvement'] = df_results['bleu_ref'] - df_results['bleu_init']\n",
    "df_results['rouge_improvement'] = df_results['rouge1_ref'] - df_results['rouge1_init']\n",
    "\n",
    "plt.figure(figsize=(10,4))\n",
    "plt.subplot(1, 2, 1)\n",
    "plt.hist(df_results['bleu_improvement'], bins=30, color='orange')\n",
    "plt.axvline(df_results['bleu_improvement'].mean(), color='red', linestyle='--')\n",
    "plt.title(\"BLEU Score Improvement\")\n",
    "\n",
    "plt.subplot(1, 2, 2)\n",
    "plt.hist(df_results['rouge_improvement'], bins=30, color='green')\n",
    "plt.axvline(df_results['rouge_improvement'].mean(), color='red', linestyle='--')\n",
    "plt.title(\"ROUGE-1 F1 Improvement\")\n",
    "\n",
    "plt.tight_layout()\n",
    "plt.show()\n"
   ]
  },
  {
   "cell_type": "code",
   "execution_count": null,
   "id": "80e6652f",
   "metadata": {},
   "outputs": [],
   "source": [
    "df_results['label_list'] = df_results['predicted_labels'].fillna('').apply(lambda x: x.split(';') if x else [])\n",
    "mlb = MultiLabelBinarizer()\n",
    "binary_matrix = mlb.fit_transform(df_results['label_list'])\n",
    "co_matrix = pd.DataFrame(binary_matrix.T @ binary_matrix, index=mlb.classes_, columns=mlb.classes_)\n",
    "\n",
    "plt.figure(figsize=(10, 8))\n",
    "sns.heatmap(co_matrix, annot=True, fmt='d', cmap='YlGnBu')\n",
    "plt.title(\"Predicted Label Co-occurrence Heatmap\")\n",
    "plt.xticks(rotation=45)\n",
    "plt.tight_layout()\n",
    "plt.show()\n"
   ]
  }
 ],
 "metadata": {},
 "nbformat": 4,
 "nbformat_minor": 5
}